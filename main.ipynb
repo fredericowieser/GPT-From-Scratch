{
 "cells": [
  {
   "cell_type": "markdown",
   "id": "3787eca9",
   "metadata": {},
   "source": [
    "# GPT From Scratch"
   ]
  },
  {
   "cell_type": "code",
   "execution_count": 2,
   "id": "922349d7",
   "metadata": {},
   "outputs": [
    {
     "data": {
      "text/plain": [
       "<torch._C.Generator at 0x12c7cec90>"
      ]
     },
     "execution_count": 2,
     "metadata": {},
     "output_type": "execute_result"
    }
   ],
   "source": [
    "import torch\n",
    "import torch.nn as nn\n",
    "import torch.nn.functional as F\n",
    "\n",
    "torch.manual_seed(1337)  # For reproducibility"
   ]
  },
  {
   "cell_type": "markdown",
   "id": "21d25067",
   "metadata": {},
   "source": [
    "## Setup and Data Cleaning\n",
    "\n",
    "Here we are going to be building a basic text encoder and decoder (character level)"
   ]
  },
  {
   "cell_type": "code",
   "execution_count": 3,
   "id": "6a89fb72",
   "metadata": {},
   "outputs": [
    {
     "name": "stdout",
     "output_type": "stream",
     "text": [
      "First Citizen:\n",
      "Before we proceed any further, hear me speak.\n",
      "\n",
      "All:\n",
      "Speak, speak.\n",
      "\n",
      "First Citizen:\n",
      "You\n"
     ]
    }
   ],
   "source": [
    "# Load training data\n",
    "with open('tiny-shakespeare.txt', 'r', encoding='utf-8') as f:\n",
    "    text = f.read()\n",
    "\n",
    "# Print the first 100 characters of the text\n",
    "print(text[:100])"
   ]
  },
  {
   "cell_type": "code",
   "execution_count": null,
   "id": "0676f28a",
   "metadata": {},
   "outputs": [
    {
     "name": "stdout",
     "output_type": "stream",
     "text": [
      "Number of unique characters: 65\n",
      "Unique characters: \n",
      " !$&',-.3:;?ABCDEFGHIJKLMNOPQRSTUVWXYZabcdefghijklmnopqrstuvwxyz\n"
     ]
    }
   ],
   "source": [
    "# Create a set of unique characters in the text\n",
    "chars = sorted(list(set(text)))\n",
    "vocab_size = len(chars)\n",
    "\n",
    "print(f\"Number of unique characters: {vocab_size}\")\n",
    "print(f\"Unique characters: {''.join(chars)}\")"
   ]
  },
  {
   "cell_type": "code",
   "execution_count": null,
   "id": "e1355f40",
   "metadata": {},
   "outputs": [
    {
     "name": "stdout",
     "output_type": "stream",
     "text": [
      "Original string: hello\n",
      "Encoded: [46, 43, 50, 50, 53]\n",
      "Decoded: hello\n"
     ]
    }
   ],
   "source": [
    "# string to index mapping\n",
    "# and index to string mapping\n",
    "stoi = {ch: i for i, ch in enumerate(chars)}\n",
    "itos = {i: ch for i, ch in enumerate(chars)}\n",
    "\n",
    "def encode(s):\n",
    "    return [stoi[c] for c in s]\n",
    "def decode(l):\n",
    "    return ''.join([itos[i] for i in l])\n",
    "\n",
    "# Example encoding and decoding\n",
    "example_string = \"hello\"\n",
    "print(f\"Original string: {example_string}\")\n",
    "encoded = encode(example_string)\n",
    "print(f\"Encoded: {encoded}\")\n",
    "decoded = decode(encoded)\n",
    "print(f\"Decoded: {decoded}\")"
   ]
  },
  {
   "cell_type": "code",
   "execution_count": 6,
   "id": "2f3cb122",
   "metadata": {},
   "outputs": [],
   "source": [
    "# Convert the entire text to a tensor of integers\n",
    "data = torch.tensor(encode(text), dtype=torch.long)\n",
    "\n",
    "# Split the data into training and validation sets\n",
    "n = int(0.9 * len(data))\n",
    "train_data = data[:n]\n",
    "val_data = data[n:]"
   ]
  },
  {
   "cell_type": "code",
   "execution_count": 7,
   "id": "e896df3c",
   "metadata": {},
   "outputs": [],
   "source": [
    "block_size = 8  # Length of each input sequence\n",
    "x = train_data[:block_size]\n",
    "y = train_data[1:block_size + 1]"
   ]
  },
  {
   "cell_type": "code",
   "execution_count": 8,
   "id": "a544a5c0",
   "metadata": {},
   "outputs": [
    {
     "name": "stdout",
     "output_type": "stream",
     "text": [
      "Context: tensor([18]), Target: 47\n",
      "Context: tensor([18, 47]), Target: 56\n",
      "Context: tensor([18, 47, 56]), Target: 57\n",
      "Context: tensor([18, 47, 56, 57]), Target: 58\n",
      "Context: tensor([18, 47, 56, 57, 58]), Target: 1\n",
      "Context: tensor([18, 47, 56, 57, 58,  1]), Target: 15\n",
      "Context: tensor([18, 47, 56, 57, 58,  1, 15]), Target: 47\n",
      "Context: tensor([18, 47, 56, 57, 58,  1, 15, 47]), Target: 58\n"
     ]
    }
   ],
   "source": [
    "# Enconded example of context and target\n",
    "for i in range(block_size):\n",
    "    context = x[:i + 1]\n",
    "    target = y[i]\n",
    "    print(f\"Context: {context}, Target: {target}\")"
   ]
  },
  {
   "cell_type": "code",
   "execution_count": 9,
   "id": "68b2404b",
   "metadata": {},
   "outputs": [
    {
     "name": "stdout",
     "output_type": "stream",
     "text": [
      "Context: 'F', Target: 'i'\n",
      "Context: 'Fi', Target: 'r'\n",
      "Context: 'Fir', Target: 's'\n",
      "Context: 'Firs', Target: 't'\n",
      "Context: 'First', Target: ' '\n",
      "Context: 'First ', Target: 'C'\n",
      "Context: 'First C', Target: 'i'\n",
      "Context: 'First Ci', Target: 't'\n"
     ]
    }
   ],
   "source": [
    "# Decoded example of context and target\n",
    "for i in range(block_size):\n",
    "    context_decoded = decode(x[:i + 1].tolist())\n",
    "    target_decoded = decode([y[i].item()])\n",
    "    print(f\"Context: '{context_decoded}', Target: '{target_decoded}'\")"
   ]
  },
  {
   "cell_type": "markdown",
   "id": "82d4aeb7",
   "metadata": {},
   "source": [
    "## Batching Our Data"
   ]
  },
  {
   "cell_type": "code",
   "execution_count": 10,
   "id": "7727d07f",
   "metadata": {},
   "outputs": [
    {
     "name": "stdout",
     "output_type": "stream",
     "text": [
      "Batch x:\n",
      "tensor([[24, 43, 58,  5, 57,  1, 46, 43],\n",
      "        [44, 53, 56,  1, 58, 46, 39, 58],\n",
      "        [52, 58,  1, 58, 46, 39, 58,  1],\n",
      "        [25, 17, 27, 10,  0, 21,  1, 54]])\n",
      "Batch y:\n",
      "tensor([[43, 58,  5, 57,  1, 46, 43, 39],\n",
      "        [53, 56,  1, 58, 46, 39, 58,  1],\n",
      "        [58,  1, 58, 46, 39, 58,  1, 46],\n",
      "        [17, 27, 10,  0, 21,  1, 54, 39]])\n",
      "Batch 0, Context: [24], Target: 43\n",
      "Batch 0, Context: [24, 43], Target: 58\n",
      "Batch 0, Context: [24, 43, 58], Target: 5\n",
      "Batch 0, Context: [24, 43, 58, 5], Target: 57\n",
      "Batch 0, Context: [24, 43, 58, 5, 57], Target: 1\n",
      "Batch 0, Context: [24, 43, 58, 5, 57, 1], Target: 46\n",
      "Batch 0, Context: [24, 43, 58, 5, 57, 1, 46], Target: 43\n",
      "Batch 0, Context: [24, 43, 58, 5, 57, 1, 46, 43], Target: 39\n",
      "Batch 1, Context: [44], Target: 53\n",
      "Batch 1, Context: [44, 53], Target: 56\n",
      "Batch 1, Context: [44, 53, 56], Target: 1\n",
      "Batch 1, Context: [44, 53, 56, 1], Target: 58\n",
      "Batch 1, Context: [44, 53, 56, 1, 58], Target: 46\n",
      "Batch 1, Context: [44, 53, 56, 1, 58, 46], Target: 39\n",
      "Batch 1, Context: [44, 53, 56, 1, 58, 46, 39], Target: 58\n",
      "Batch 1, Context: [44, 53, 56, 1, 58, 46, 39, 58], Target: 1\n"
     ]
    }
   ],
   "source": [
    "batch_size = 4\n",
    "block_size = 8\n",
    "\n",
    "def get_batch(split):\n",
    "    # Get a batch of data for training or validation\n",
    "    data = train_data if split == 'train' else val_data\n",
    "    ix = torch.randint(len(data) - block_size, (batch_size,))\n",
    "    x = torch.stack([data[i:i + block_size] for i in ix])\n",
    "    y = torch.stack([data[i + 1:i + block_size + 1] for i in ix])\n",
    "    return x, y\n",
    "\n",
    "# Example usage of get_batch:\n",
    "# We can see that the matrix x contains sequences of characters\n",
    "# and y contains the next character for each sequence\n",
    "x_batch, y_batch = get_batch('train')\n",
    "print(\"Batch x:\")\n",
    "print(x_batch)\n",
    "print(\"Batch y:\")\n",
    "print(y_batch)\n",
    "\n",
    "for i in range(2):\n",
    "    for j in range(block_size):\n",
    "        context = x_batch[i, :j+1]\n",
    "        target = y_batch[i, j]\n",
    "        # Print encoded context and target\n",
    "        print(f\"Batch {i}, Context: {context.tolist()}, Target: {target.item()}\")"
   ]
  },
  {
   "cell_type": "markdown",
   "id": "99bed199",
   "metadata": {},
   "source": [
    "## Bigram Model"
   ]
  },
  {
   "cell_type": "code",
   "execution_count": 11,
   "id": "94938a6e",
   "metadata": {},
   "outputs": [],
   "source": [
    "class BigramLanguageModel(nn.Module):\n",
    "    def __init__(self, vocab_size):\n",
    "        super().__init__()\n",
    "        self.vocab_size = vocab_size\n",
    "        self.token_embedding_table = nn.Embedding(vocab_size, vocab_size)\n",
    "\n",
    "    def forward(self, idx, targets=None):\n",
    "        # idx and target are both (B, T) tensors of integers\n",
    "        logits = self.token_embedding_table(idx) # (B, T, C)\n",
    "        if targets is None: return logits, None\n",
    "        B, T, C = logits.shape\n",
    "        # We reshape to comply to the expected input for cross-entropy loss\n",
    "        # in PyTorch, which expects logits to be (B*T, C)\n",
    "        logits = logits.view(B * T, C)  # Reshape to (B*T, C)\n",
    "        # targets should be reshaped to (B*T,)\n",
    "        targets = targets.view(B * T)\n",
    "        loss = F.cross_entropy(logits, targets)\n",
    "        return logits, loss\n",
    "    \n",
    "    def generate(self, idx, max_new_tokens):\n",
    "        # idx is a (B, T) tensor of integers\n",
    "        for _ in range(max_new_tokens):\n",
    "            # get the predictions\n",
    "            logits, loss = self(idx) # Forward pass\n",
    "\n",
    "            # focus only on the last time step\n",
    "            logits = logits[:, -1, :] # (B, C)\n",
    "\n",
    "            # apply softmax to get probabilities\n",
    "            probs = F.softmax(logits, dim=-1) # (B, C)\n",
    "\n",
    "            # sample from the distribution\n",
    "            idx_next = torch.multinomial(probs, num_samples=1) # (B, 1)\n",
    "\n",
    "            # append sampled index to the input\n",
    "            idx = torch.cat((idx, idx_next), dim=1) # (B, T+1)\n",
    "        return idx"
   ]
  },
  {
   "cell_type": "code",
   "execution_count": 12,
   "id": "4f6dcda3",
   "metadata": {},
   "outputs": [
    {
     "name": "stdout",
     "output_type": "stream",
     "text": [
      "Logits shape: torch.Size([32, 65])\n",
      "Loss: 5.036386013031006\n",
      "\n",
      "lfJeukRuaRJKXAYtXzfJ:HEPiu--sDioi;ILCo3pHNTmDwJsfheKRxZCFs\n",
      "lZJ XQc?:s:HEzEnXalEPklcPU cL'DpdLCafBheH\n"
     ]
    }
   ],
   "source": [
    "model = BigramLanguageModel(vocab_size)\n",
    "logits, loss = model(x_batch, y_batch)\n",
    "print(\"Logits shape:\", logits.shape)\n",
    "print(\"Loss:\", loss.item())\n",
    "\n",
    "print(decode(model.generate(\n",
    "    idx = torch.zeros(\n",
    "        (1, 1), dtype=torch.long\n",
    "    ),\n",
    "    max_new_tokens = 100,\n",
    ")[0].tolist()))"
   ]
  },
  {
   "cell_type": "markdown",
   "id": "b311ab05",
   "metadata": {},
   "source": [
    "### Training"
   ]
  },
  {
   "cell_type": "code",
   "execution_count": 13,
   "id": "a67d8d3a",
   "metadata": {},
   "outputs": [
    {
     "name": "stdout",
     "output_type": "stream",
     "text": [
      "Step 0, Loss: 4.647705078125\n",
      "Step 100, Loss: 4.563594341278076\n",
      "Step 200, Loss: 4.487884998321533\n",
      "Step 300, Loss: 4.341160297393799\n",
      "Step 400, Loss: 4.198233604431152\n",
      "Step 500, Loss: 4.104591369628906\n",
      "Step 600, Loss: 3.951016902923584\n",
      "Step 700, Loss: 3.9056990146636963\n",
      "Step 800, Loss: 3.800628185272217\n",
      "Step 900, Loss: 3.7908599376678467\n",
      "Step 1000, Loss: 3.664973020553589\n",
      "Step 1100, Loss: 3.601811647415161\n",
      "Step 1200, Loss: 3.595593214035034\n",
      "Step 1300, Loss: 3.5757346153259277\n",
      "Step 1400, Loss: 3.463500499725342\n",
      "Step 1500, Loss: 3.342952013015747\n",
      "Step 1600, Loss: 3.28108811378479\n",
      "Step 1700, Loss: 3.1663148403167725\n",
      "Step 1800, Loss: 3.1322338581085205\n",
      "Step 1900, Loss: 3.186391830444336\n",
      "Step 2000, Loss: 3.3166022300720215\n",
      "Step 2100, Loss: 3.0833427906036377\n",
      "Step 2200, Loss: 3.0410451889038086\n",
      "Step 2300, Loss: 3.0327343940734863\n",
      "Step 2400, Loss: 2.9013376235961914\n",
      "Step 2500, Loss: 2.9623847007751465\n",
      "Step 2600, Loss: 2.801382303237915\n",
      "Step 2700, Loss: 2.9442999362945557\n",
      "Step 2800, Loss: 2.9196670055389404\n",
      "Step 2900, Loss: 2.778093099594116\n",
      "Step 3000, Loss: 2.8780226707458496\n",
      "Step 3100, Loss: 2.75846266746521\n",
      "Step 3200, Loss: 2.6458051204681396\n",
      "Step 3300, Loss: 2.6722421646118164\n",
      "Step 3400, Loss: 2.7584400177001953\n",
      "Step 3500, Loss: 2.6149613857269287\n",
      "Step 3600, Loss: 2.7044677734375\n",
      "Step 3700, Loss: 2.6210734844207764\n",
      "Step 3800, Loss: 2.6896605491638184\n",
      "Step 3900, Loss: 2.562711715698242\n",
      "Step 4000, Loss: 2.6928248405456543\n",
      "Step 4100, Loss: 2.7090389728546143\n",
      "Step 4200, Loss: 2.6833510398864746\n",
      "Step 4300, Loss: 2.6968462467193604\n",
      "Step 4400, Loss: 2.5529909133911133\n",
      "Step 4500, Loss: 2.629775047302246\n",
      "Step 4600, Loss: 2.5676662921905518\n",
      "Step 4700, Loss: 2.6029269695281982\n",
      "Step 4800, Loss: 2.5685839653015137\n",
      "Step 4900, Loss: 2.61802339553833\n",
      "Step 5000, Loss: 2.4840328693389893\n",
      "Step 5100, Loss: 2.488345146179199\n",
      "Step 5200, Loss: 2.6079533100128174\n",
      "Step 5300, Loss: 2.597977876663208\n",
      "Step 5400, Loss: 2.5274126529693604\n",
      "Step 5500, Loss: 2.507720708847046\n",
      "Step 5600, Loss: 2.5268514156341553\n",
      "Step 5700, Loss: 2.4788081645965576\n",
      "Step 5800, Loss: 2.5221691131591797\n",
      "Step 5900, Loss: 2.522481918334961\n",
      "Step 6000, Loss: 2.504540205001831\n",
      "Step 6100, Loss: 2.4921727180480957\n",
      "Step 6200, Loss: 2.588379383087158\n",
      "Step 6300, Loss: 2.493377923965454\n",
      "Step 6400, Loss: 2.5078516006469727\n",
      "Step 6500, Loss: 2.4003422260284424\n",
      "Step 6600, Loss: 2.540217638015747\n",
      "Step 6700, Loss: 2.459529399871826\n",
      "Step 6800, Loss: 2.6065866947174072\n",
      "Step 6900, Loss: 2.4315335750579834\n",
      "Step 7000, Loss: 2.51017689704895\n",
      "Step 7100, Loss: 2.4294891357421875\n",
      "Step 7200, Loss: 2.470170736312866\n",
      "Step 7300, Loss: 2.539555072784424\n",
      "Step 7400, Loss: 2.490170478820801\n",
      "Step 7500, Loss: 2.6031527519226074\n",
      "Step 7600, Loss: 2.4152612686157227\n",
      "Step 7700, Loss: 2.416261911392212\n",
      "Step 7800, Loss: 2.5197031497955322\n",
      "Step 7900, Loss: 2.502788782119751\n",
      "Step 8000, Loss: 2.409280776977539\n",
      "Step 8100, Loss: 2.6160202026367188\n",
      "Step 8200, Loss: 2.4808177947998047\n",
      "Step 8300, Loss: 2.5127646923065186\n",
      "Step 8400, Loss: 2.429802417755127\n",
      "Step 8500, Loss: 2.382634401321411\n",
      "Step 8600, Loss: 2.54453444480896\n",
      "Step 8700, Loss: 2.4124948978424072\n",
      "Step 8800, Loss: 2.4139420986175537\n",
      "Step 8900, Loss: 2.4783358573913574\n",
      "Step 9000, Loss: 2.4302585124969482\n",
      "Step 9100, Loss: 2.5653278827667236\n",
      "Step 9200, Loss: 2.569941520690918\n",
      "Step 9300, Loss: 2.5221028327941895\n",
      "Step 9400, Loss: 2.3337626457214355\n",
      "Step 9500, Loss: 2.41483736038208\n",
      "Step 9600, Loss: 2.5110456943511963\n",
      "Step 9700, Loss: 2.4640138149261475\n",
      "Step 9800, Loss: 2.4200291633605957\n",
      "Step 9900, Loss: 2.534623861312866\n"
     ]
    }
   ],
   "source": [
    "optimizer = torch.optim.AdamW(model.parameters(), lr=1e-3)\n",
    "\n",
    "batch_size = 32\n",
    "STEPS = 10000\n",
    "for step in range(STEPS):\n",
    "    xb, yb = get_batch('train')\n",
    "    logits, loss = model(xb, yb)\n",
    "    optimizer.zero_grad(set_to_none=True)  # Zero the gradients\n",
    "    loss.backward()  # Backpropagation\n",
    "    optimizer.step()  # Update the model parameters\n",
    "    if step % 100 == 0:\n",
    "        print(f\"Step {step}, Loss: {loss.item()}\")"
   ]
  },
  {
   "cell_type": "code",
   "execution_count": 14,
   "id": "313a7588",
   "metadata": {},
   "outputs": [
    {
     "name": "stdout",
     "output_type": "stream",
     "text": [
      "\n",
      "M:\n",
      "IUSh t,\n",
      "F th he d ke alved.\n",
      "Thupld, cipbll t\n",
      "I: ir w, l me sie hend lor ito'l an e\n",
      "\n",
      "I:\n",
      "Gochosen ea ar btamandd halind\n",
      "Aust, plt t wadyotl\n",
      "I bel qunganonoth he m he de avellis k'l, tond soran:\n",
      "\n",
      "WI he toust are bot g e n t s d je hid t his IAces I my ig t\n",
      "Ril'swoll e pupat inouleacends-athiqu heamer te\n",
      "Wht s\n",
      "\n",
      "MI wect!-lltherotheve t fe;\n",
      "WAnd py;\n",
      "\n",
      "PO t s ld tathat, ir V\n",
      "IO thesecin teot tit ado ilorer.\n",
      "Ply, d'stacoes, ld omat mealellly yererer EMEvesas ie IZEd pave mautoofareanerllleyomerer but?\n"
     ]
    }
   ],
   "source": [
    "# Visual check of the model's generation\n",
    "print(decode(model.generate(\n",
    "    idx = torch.zeros(\n",
    "        (1, 1), dtype=torch.long\n",
    "    ),\n",
    "    max_new_tokens = 500,\n",
    ")[0].tolist()))"
   ]
  },
  {
   "cell_type": "markdown",
   "id": "d99b63a5",
   "metadata": {},
   "source": [
    "## Transformer"
   ]
  },
  {
   "cell_type": "code",
   "execution_count": null,
   "id": "a36ce1cb",
   "metadata": {},
   "outputs": [
    {
     "name": "stdout",
     "output_type": "stream",
     "text": [
      "Using device: mps\n"
     ]
    }
   ],
   "source": [
    "# Hyperparameters\n",
    "batch_size = 32\n",
    "block_size = 8\n",
    "max_iters = 3000\n",
    "eval_interval = 300\n",
    "learning_rate = 1e-2\n",
    "eval_iters = 200\n",
    "\n",
    "device = None\n",
    "if torch.cuda.is_available():\n",
    "    device = 'cuda'\n",
    "elif torch.backends.mps.is_available():\n",
    "    device = 'mps'\n",
    "else:\n",
    "    device = 'cpu'\n",
    "print(f\"Using device: {device}\")"
   ]
  },
  {
   "cell_type": "code",
   "execution_count": null,
   "id": "e12152dc",
   "metadata": {},
   "outputs": [],
   "source": [
    "# Mathematical Trick in Self Attention:\n",
    "# Because we are building a decoder-only model, we can use a causal mask\n",
    "# which ensures that the model can only attend to previous tokens and not future ones.\n",
    "\n"
   ]
  }
 ],
 "metadata": {
  "kernelspec": {
   "display_name": "base",
   "language": "python",
   "name": "python3"
  },
  "language_info": {
   "codemirror_mode": {
    "name": "ipython",
    "version": 3
   },
   "file_extension": ".py",
   "mimetype": "text/x-python",
   "name": "python",
   "nbconvert_exporter": "python",
   "pygments_lexer": "ipython3",
   "version": "3.12.4"
  }
 },
 "nbformat": 4,
 "nbformat_minor": 5
}
