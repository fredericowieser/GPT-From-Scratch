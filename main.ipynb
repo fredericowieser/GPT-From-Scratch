{
 "cells": [
  {
   "cell_type": "markdown",
   "id": "3787eca9",
   "metadata": {},
   "source": [
    "# GPT From Scratch"
   ]
  },
  {
   "cell_type": "code",
   "execution_count": 1,
   "id": "922349d7",
   "metadata": {},
   "outputs": [],
   "source": [
    "import torch"
   ]
  },
  {
   "cell_type": "code",
   "execution_count": null,
   "id": "6a89fb72",
   "metadata": {},
   "outputs": [],
   "source": []
  }
 ],
 "metadata": {
  "kernelspec": {
   "display_name": "base",
   "language": "python",
   "name": "python3"
  },
  "language_info": {
   "codemirror_mode": {
    "name": "ipython",
    "version": 3
   },
   "file_extension": ".py",
   "mimetype": "text/x-python",
   "name": "python",
   "nbconvert_exporter": "python",
   "pygments_lexer": "ipython3",
   "version": "3.12.4"
  }
 },
 "nbformat": 4,
 "nbformat_minor": 5
}
